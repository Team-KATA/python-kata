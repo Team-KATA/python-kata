{
 "cells": [
  {
   "cell_type": "code",
   "execution_count": 7,
   "metadata": {},
   "outputs": [
    {
     "name": "stderr",
     "output_type": "stream",
     "text": [
      "/usr/local/lib/python3.7/site-packages/pmdarima/arima/_validation.py:62: UserWarning: m (12) set for non-seasonal fit. Setting to 0\n",
      "  warnings.warn(\"m (%i) set for non-seasonal fit. Setting to 0\" % m)\n"
     ]
    },
    {
     "name": "stdout",
     "output_type": "stream",
     "text": [
      "Performing stepwise search to minimize aic\n",
      " ARIMA(2,0,2)(0,0,0)[0]             : AIC=6169.589, Time=0.79 sec\n",
      " ARIMA(0,0,0)(0,0,0)[0]             : AIC=6396.650, Time=0.08 sec\n",
      " ARIMA(1,0,0)(0,0,0)[0]             : AIC=6390.442, Time=0.12 sec\n",
      " ARIMA(0,0,1)(0,0,0)[0]             : AIC=6385.402, Time=0.23 sec\n",
      " ARIMA(1,0,2)(0,0,0)[0]             : AIC=6177.756, Time=0.50 sec\n",
      " ARIMA(2,0,1)(0,0,0)[0]             : AIC=6167.594, Time=0.35 sec\n",
      " ARIMA(1,0,1)(0,0,0)[0]             : AIC=6277.269, Time=0.33 sec\n",
      " ARIMA(2,0,0)(0,0,0)[0]             : AIC=6312.727, Time=0.08 sec\n",
      " ARIMA(3,0,1)(0,0,0)[0]             : AIC=6169.590, Time=0.66 sec\n",
      " ARIMA(3,0,0)(0,0,0)[0]             : AIC=6274.236, Time=0.20 sec\n",
      " ARIMA(3,0,2)(0,0,0)[0]             : AIC=6170.914, Time=1.18 sec\n",
      " ARIMA(2,0,1)(0,0,0)[0] intercept   : AIC=6169.522, Time=1.45 sec\n",
      "\n",
      "Best model:  ARIMA(2,0,1)(0,0,0)[0]          \n",
      "Total fit time: 5.985 seconds\n"
     ]
    },
    {
     "name": "stderr",
     "output_type": "stream",
     "text": [
      "/usr/local/lib/python3.7/site-packages/statsmodels/tsa/statespace/sarimax.py:966: UserWarning: Non-stationary starting autoregressive parameters found. Using zeros as starting parameters.\n",
      "  warn('Non-stationary starting autoregressive parameters'\n",
      "/usr/local/lib/python3.7/site-packages/statsmodels/tsa/statespace/sarimax.py:978: UserWarning: Non-invertible starting MA parameters found. Using zeros as starting parameters.\n",
      "  warn('Non-invertible starting MA parameters found.'\n"
     ]
    },
    {
     "name": "stdout",
     "output_type": "stream",
     "text": [
      "result : \n",
      "1781    22.433985\n",
      "1782    22.281259\n",
      "1783    22.267696\n",
      "1784    22.186931\n",
      "1785    22.138960\n",
      "1786    22.075329\n",
      "1787    22.019515\n",
      "1788    21.960142\n",
      "1789    21.902722\n",
      "1790    21.844584\n",
      "1791    21.787020\n",
      "Name: predicted_mean, dtype: float64\n"
     ]
    },
    {
     "data": {
      "image/png": "[encoded data removed]",
      "text/plain": [
       "<Figure size 432x288 with 1 Axes>"
      ]
     },
     "metadata": {
      "needs_background": "light"
     },
     "output_type": "display_data"
    }
   ],
   "source": [
    "import pandas as pd\n",
    "\n",
    "# from statsmodels.tsa.arima.model import ARIMA\n",
    "from statsmodels.tsa.statespace.sarimax import SARIMAX\n",
    "from pmdarima import auto_arima\n",
    "\n",
    "# 상대경로\n",
    "def load_csv(_file_name: str, _index_col: str):\n",
    "    df = pd.read_csv(_file_name)\n",
    "    df.set_index(_index_col)\n",
    "    return df\n",
    "\n",
    "def defferencing_data(_df, _col: str):\n",
    "    diff_df = _df.copy()\n",
    "    diff_df = diff_df[_col].diff().dropna()\n",
    "    return diff_df\n",
    "\n",
    "def optimize_order(_df):\n",
    "    return auto_arima(_df,  seasonal=False, m=12, trace=True, suppress_warnings=True)\n",
    "\n",
    "def train(_df, _col, _order):\n",
    "    # ARIMA 모델 정의 및 학습\n",
    "    model = SARIMAX(_df[_col], order=_order.order, seasonal_order=_order.seasonal_order)\n",
    "    # 모델 훈련\n",
    "    model_fit = model.fit()\n",
    "    return model_fit\n",
    "\n",
    "def forecast(_model: SARIMAX, _start: int, _amount: int) -> pd.core.series.Series:\n",
    "    _forecast = _model.predict(start=_start, end=_amount)\n",
    "    return _forecast\n",
    "\n",
    "def prediction(_df: str, _col: str, _index_col: str, _amount: float):\n",
    "    df = load_csv(_df, _index_col)\n",
    "    diff_df = defferencing_data(df, _col)\n",
    "    best_order = optimize_order(diff_df)\n",
    "    model = train(df, _col, best_order)\n",
    "    result = forecast(model, len(df), int(len(df)+_amount))\n",
    "\n",
    "    df[_col].plot()\n",
    "    result.plot()\n",
    "\n",
    "    return result\n",
    "\n",
    "\n",
    "result = prediction(\"/workspace/Forage/python-kata/modules/prediction/arima_train - full.csv\", \"dew\", \"datetime\", 10)\n",
    "print(f'result : \\n{result}')\n",
    "    "
   ]
  },
  {
   "cell_type": "code",
   "execution_count": null,
   "metadata": {},
   "outputs": [],
   "source": []
  }
 ],
 "metadata": {
  "kernelspec": {
   "display_name": "Python 3",
   "language": "python",
   "name": "python3"
  },
  "language_info": {
   "codemirror_mode": {
    "name": "ipython",
    "version": 3
   },
   "file_extension": ".py",
   "mimetype": "text/x-python",
   "name": "python",
   "nbconvert_exporter": "python",
   "pygments_lexer": "ipython3",
   "version": "3.7.4"
  },
  "orig_nbformat": 4,
  "vscode": {
   "interpreter": {
    "hash": "949777d72b0d2535278d3dc13498b2535136f6dfe0678499012e853ee9abcab1"
   }
  }
 },
 "nbformat": 4,
 "nbformat_minor": 2
}
